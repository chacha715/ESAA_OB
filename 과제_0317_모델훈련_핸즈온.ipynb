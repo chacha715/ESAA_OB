{
  "nbformat": 4,
  "nbformat_minor": 0,
  "metadata": {
    "colab": {
      "provenance": [],
      "authorship_tag": "ABX9TyOPs1bahPhhIi9jFV4jV+xk",
      "include_colab_link": true
    },
    "kernelspec": {
      "name": "python3",
      "display_name": "Python 3"
    },
    "language_info": {
      "name": "python"
    }
  },
  "cells": [
    {
      "cell_type": "markdown",
      "metadata": {
        "id": "view-in-github",
        "colab_type": "text"
      },
      "source": [
        "<a href=\"https://colab.research.google.com/github/chacha715/ESAA_OB/blob/main/%EA%B3%BC%EC%A0%9C_0317_%EB%AA%A8%EB%8D%B8%ED%9B%88%EB%A0%A8_%ED%95%B8%EC%A6%88%EC%98%A8.ipynb\" target=\"_parent\"><img src=\"https://colab.research.google.com/assets/colab-badge.svg\" alt=\"Open In Colab\"/></a>"
      ]
    },
    {
      "cell_type": "markdown",
      "source": [
        "# **Ch.4 모델 훈련**\n",
        "\n",
        "\n",
        "*   선형 회귀 모델을 훈련시키는 방법:\n",
        " *   직접 계산할 수 있는 공식을 사용하여 해석적으로 구함\n",
        " *   경사 하강법(GD)이라는 반복적인 최적화 방식을 사용하여 구함\n",
        "     \n",
        "     -변종: 배치 경사 하강법, 미니배치 경사 하강법, 확률적 경사 하강법\n",
        "\n",
        "*   다항 회귀-비선형 데이터셋에 훈련시킬 수 있음\n",
        " *   파라미터가 많아 훈련 데이터에 과대적합할 가능성 높음 \n",
        " \n",
        " \n",
        " *   로지스틱 회귀와 소프트맥스 회귀-분류 작업에 널리 사용되는 모델\n",
        "\n",
        "\n",
        "\n",
        "###**4.1 선형 회귀**\n",
        "\n",
        "\n",
        "*   입력 특성의 가중치 합과 **편향**(bias 또는 **절편** intercept)이라는 상수를 더해 예측을 만듦\n",
        "\n",
        "*   회귀에 가장 널리 사용되는 성능 측정 지표는 평균 제곱근 오차(RMSE)-실제로는 RMSE보다 평균 제곱 오차(MSE)를 최소화하는 것이 같은 결과를 내면서 더 간단함\n",
        "\n",
        "\n",
        "\n",
        "###**4.1.1 정규방정식**\n",
        "\n",
        "*   **정규방정식**(normal equation): 비용 함수를 최소화하는 $\\theta$값을 찾기 위한 **해석적인 방법**"
      ],
      "metadata": {
        "id": "nn1lYB7DI1C-"
      }
    },
    {
      "cell_type": "code",
      "execution_count": 4,
      "metadata": {
        "id": "c44mKd6nItYV"
      },
      "outputs": [],
      "source": [
        "# 정규방정식 공식을 테스트하기 위해 선형처럼 보이는 데이터 생성\n",
        "import numpy as np \n",
        "import pandas as pd #\n",
        "import matplotlib.pyplot as plt #\n",
        "import seaborn as sns #\n",
        "\n",
        "X = 2*np.random.rand(100,1)\n",
        "y = 4 + 3*X + np.random.randn(100,1)"
      ]
    },
    {
      "cell_type": "code",
      "source": [
        "# 정규방정식을 이용해 theta_bar 계산\n",
        "# 넘파이 선형대수 모듈(np.linalg)의 inv()함수를 사용해 역행렬 계산, dot() 메서드를 사용해 행렬 곱셈\n",
        "X_b = np.c_[np.ones((100, 1)), X] # 모든 샘플에 X0 = 1을 추가합니다.\n",
        "theta_best = np.linalg.inv(X_b.T.dot(X_b)).dot(X_b.T).dot(y)"
      ],
      "metadata": {
        "id": "kTATFh27ZfrM"
      },
      "execution_count": 6,
      "outputs": []
    },
    {
      "cell_type": "code",
      "source": [
        "# 정규방정식으로 계산한 값 확인\n",
        "theta_best"
      ],
      "metadata": {
        "colab": {
          "base_uri": "https://localhost:8080/"
        },
        "id": "ZtxNoXGuZfo1",
        "outputId": "bc3447c5-ea8e-4c18-d0db-9364fbd9b11a"
      },
      "execution_count": null,
      "outputs": [
        {
          "output_type": "execute_result",
          "data": {
            "text/plain": [
              "array([[3.56903127],\n",
              "       [3.29550967]])"
            ]
          },
          "metadata": {},
          "execution_count": 5
        }
      ]
    },
    {
      "cell_type": "markdown",
      "source": [
        "*   기대한 값과 비슷하지만 잡음으로 인해 기존 함수의 파라미터를 정확하게 재현하지 못함"
      ],
      "metadata": {
        "id": "hd67wXG4bTn-"
      }
    },
    {
      "cell_type": "code",
      "source": [
        "# theta_bar을 사용해 예측\n",
        "X_new = np.array([[0], [2]])\n",
        "X_new_b = np.c_[np.ones((2, 1)), X_new] # 모든 샘플에 X0 = 1을 추가합니다.\n",
        "y_predict = X_new_b.dot(theta_best)\n",
        "y_predict"
      ],
      "metadata": {
        "colab": {
          "base_uri": "https://localhost:8080/"
        },
        "id": "hTt08xobZfme",
        "outputId": "56ada701-db33-4351-c5d3-9d26ca508cb6"
      },
      "execution_count": 7,
      "outputs": [
        {
          "output_type": "execute_result",
          "data": {
            "text/plain": [
              "array([[4.32015276],\n",
              "       [9.94888972]])"
            ]
          },
          "metadata": {},
          "execution_count": 7
        }
      ]
    },
    {
      "cell_type": "code",
      "source": [
        "plt.plot(X_new, y_predict, \"r-\")\n",
        "plt.plot(X, y, \"b. \")\n",
        "plt.axis([0, 2, 0, 15])\n",
        "plt.show()"
      ],
      "metadata": {
        "colab": {
          "base_uri": "https://localhost:8080/",
          "height": 265
        },
        "id": "BP89pRGXZfio",
        "outputId": "d224b19f-266c-4294-c3cb-2d30f3fc092e"
      },
      "execution_count": 8,
      "outputs": [
        {
          "output_type": "display_data",
          "data": {
            "text/plain": [
              "<Figure size 432x288 with 1 Axes>"
            ],
            "image/png": "[encoded data removed]"
          },
          "metadata": {
            "needs_background": "light"
          }
        }
      ]
    },
    {
      "cell_type": "code",
      "source": [
        "# 사이킷런에서 선형 회귀 수행\n",
        "# 사이킷런은 특성의 가중치(coef_)와 편향(intercept_)을 분리하여 저장함\n",
        "from sklearn.linear_model import LinearRegression\n",
        "lin_reg = LinearRegression()\n",
        "lin_reg.fit(X, y)\n",
        "lin_reg.intercept_, lin_reg.coef_"
      ],
      "metadata": {
        "colab": {
          "base_uri": "https://localhost:8080/"
        },
        "id": "bQJ_-hL1ZfeK",
        "outputId": "1b19e940-adb3-4593-a380-d9ef8d704afe"
      },
      "execution_count": null,
      "outputs": [
        {
          "output_type": "execute_result",
          "data": {
            "text/plain": [
              "(array([3.56903127]), array([[3.29550967]]))"
            ]
          },
          "metadata": {},
          "execution_count": 8
        }
      ]
    },
    {
      "cell_type": "code",
      "source": [
        "lin_reg.predict(X_new)"
      ],
      "metadata": {
        "colab": {
          "base_uri": "https://localhost:8080/"
        },
        "id": "ysfaoqW7ZfbP",
        "outputId": "9dd17670-05fe-4020-c1fa-d350c69def5b"
      },
      "execution_count": null,
      "outputs": [
        {
          "output_type": "execute_result",
          "data": {
            "text/plain": [
              "array([[ 3.56903127],\n",
              "       [10.16005061]])"
            ]
          },
          "metadata": {},
          "execution_count": 9
        }
      ]
    },
    {
      "cell_type": "code",
      "source": [
        "# LinearRegression 클래스는 직접 호출 가능한 scipy.linalg.lstsq() 함수를 기반으로 함\n",
        "theta_best_svd, residuals, rank, s = np.linalg.lstsq(X_b, y, rcond=1e-6)\n",
        "theta_best_svd"
      ],
      "metadata": {
        "colab": {
          "base_uri": "https://localhost:8080/"
        },
        "id": "SsBGkvplcJn_",
        "outputId": "70363fff-7ee5-4280-d33a-10d7be27b303"
      },
      "execution_count": null,
      "outputs": [
        {
          "output_type": "execute_result",
          "data": {
            "text/plain": [
              "array([[3.56903127],\n",
              "       [3.29550967]])"
            ]
          },
          "metadata": {},
          "execution_count": 10
        }
      ]
    },
    {
      "cell_type": "markdown",
      "source": [
        "> $\\hat{\\theta} = X^+ y$을 계산하는 함수($X^+$ :  $X$의 유사역행렬)"
      ],
      "metadata": {
        "id": "8_5ENp7zck4_"
      }
    },
    {
      "cell_type": "code",
      "source": [
        "# np.linalg.pinv() 함수를 사용해 유사역행렬 직접 구하기\n",
        "np.linalg.pinv(X_b).dot(y)"
      ],
      "metadata": {
        "colab": {
          "base_uri": "https://localhost:8080/"
        },
        "id": "ogourPNwdMbu",
        "outputId": "90c4aa47-1a08-468f-8b9c-26c46244c83b"
      },
      "execution_count": null,
      "outputs": [
        {
          "output_type": "execute_result",
          "data": {
            "text/plain": [
              "array([[3.56903127],\n",
              "       [3.29550967]])"
            ]
          },
          "metadata": {},
          "execution_count": 11
        }
      ]
    },
    {
      "cell_type": "markdown",
      "source": [
        "> - 유사역행렬은 **특잇값 분해**(SVD)을 사용해 계산"
      ],
      "metadata": {
        "id": "4fMJVFWtcbCE"
      }
    },
    {
      "cell_type": "markdown",
      "source": [
        "###**4.1.2 계산 복잡도**\n",
        "- 정규 방정식은 $(n+1) \\times (n+1)$ 크기인 $X^TX$의 역행렬을 계산\n",
        "  + 역행렬을 계산하는 계산 복잡도는 일반적으로 $O(n^{2.4})$~$O(n^{3})$ 사이\n",
        "\n",
        "- 사이킷런의 LinearRegression 클래스가 사용하는 SVD 방법은 약 $O(n^{2})$\n",
        "\n",
        "- 학습된 선형 회귀 모델은 예측이 매우 빠름\n",
        "- 예측 계산 복잡도는 샘플 수와 특성 수에 선형적\n",
        "  + 즉, 샘플(특성)이 두 배로 늘어나면 걸리는 시간도 거의 두 배 증가"
      ],
      "metadata": {
        "id": "3VLw85xpddXV"
      }
    },
    {
      "cell_type": "markdown",
      "source": [
        "###**4.2 경사 하강법**\n",
        "- 경사 하강법(GD): 여러 종류의 문제에서 최적의 해법을 찾을 수 있는 일반적인 최적화 알고리즘\n",
        "  + 비용 함수를 최소화하기 위해 반복해서 파라미터를 조정\n",
        "  + 파라미터 벡터 $\\theta$에 대해 비용 함수의 현재 그레이디언트 계산\n",
        "    + 그레이디언트가 감소하다 0이 되면 최솟값에 도달한 것\n",
        "  + $\\theta$를 임의의 값으로 시작(무작위 초기화) > 조금씩 비용 함수를 감소하는 방향으로 진행하여 알고리즘이 최솟값에 수렴\n",
        "  + 중요한 파라미터는 스텝의 크기로, 학습률 하이퍼파라미터로 결정\n",
        "    + 학습률이 너무 작으면 반복이 많이 진행되어 시간이 오래 걸림\n",
        "    + 학습률이 너무 크면 최솟값을 건너 뛰어 더 큰 값을 가짐\n",
        "\n",
        "\n",
        "- 경사 하강법의 문제점(비용 함수에 다양한 형태 존재)\n",
        "  + 무작위 초기화로 인해 전역 최솟값이 아닌 지역 최솟값에 수렴할 수 있음\n",
        "  + 무작위 초기화로 인해 최솟값과 먼 곳에서 시작하여 시간이 오래 걸리고 일찍 멈춰 최솟값에 도달하지 못할 수 있음\n",
        "  + MSE 비용 함수는 볼록함수 이므로 위의 문제가 발생하지 않음\n",
        "\n",
        "- 경사 하강법 최적화\n",
        "  + 모델 훈련: 훈련 세트에서 비용 함수를 최소화하는 모델 파라미터의 조합을 찾는 것\n",
        "  + 모델의 파라미터 공간에서 찾는다<라고 표현\n",
        "\n",
        "  + 모델의 파라미터 수가 많을수록 공간의 차원은 커지고 검색이 어려워짐\n",
        "\n",
        "###**4.2.1 배치 경사 하강법**\n",
        "- 경사 하강법을 구현하기 위해서는 각 모델 파라미터 $\\theta_j$에 대해 비용 함수의 그레이디언트를 계산해야함: 편도함수(partial derivative)\n",
        "$$ \\frac{\\partial}{\\partial \\theta_j}MSE(\\theta) = \\frac{2}{m}\\sum_{i=1}^{m} (\\theta^T x^{(i)} - y^{(i)}) x_{j}^{(i)}$$\n",
        "  + 편도함수를 각각 계산할 필요 없이 한번에 계산 가능\n",
        "  $$ \\nabla_{\\theta} MSE(\\theta)= \\begin{pmatrix} \\frac{\\partial}{\\partial \\theta_0}MSE(\\theta)  \\\\ \\frac{\\partial}{\\partial \\theta_1}MSE(\\theta) \\\\ ... \\\\ \\frac{\\partial}{\\partial \\theta_n}MSE(\\theta) \\end{pmatrix} = \\frac{2}{m}X^T(X\\theta - y)$$\n",
        "  + 이때, 위로 향하는 그레이디언트 벡터가 구해지면 반대 방향인 아래로 가기 위해 학습률 사용\n",
        "  $$ \\theta^{(next step)} = \\theta - \\eta \\nabla_{\\theta} MSE(\\theta)$$"
      ],
      "metadata": {
        "id": "ulGlxTS1efqM"
      }
    },
    {
      "cell_type": "code",
      "source": [
        "eta = 0.1  # 학습률\n",
        "n_iterations = 1000\n",
        "m = 100\n",
        "\n",
        "theta = np.random.randn(2,1)  # 무작위 초기화화\n",
        "\n",
        "for iteration in range(n_iterations):\n",
        "    gradients = 2/m * x_b.T.dot(x_b.dot(theta) - y)\n",
        "    theta = theta - eta * gradients"
      ],
      "metadata": {
        "id": "xAB1-Lt0caQ7"
      },
      "execution_count": null,
      "outputs": []
    },
    {
      "cell_type": "code",
      "source": [
        "theta"
      ],
      "metadata": {
        "colab": {
          "base_uri": "https://localhost:8080/"
        },
        "id": "c9iTUOrFJatJ",
        "outputId": "47467367-e7eb-437d-c3b2-9c41f9c3633d"
      },
      "execution_count": null,
      "outputs": [
        {
          "output_type": "execute_result",
          "data": {
            "text/plain": [
              "array([[3.56903127],\n",
              "       [3.29550967]])"
            ]
          },
          "metadata": {},
          "execution_count": 14
        }
      ]
    },
    {
      "cell_type": "markdown",
      "source": [
        "> 학습률 $\\eta$를 바꿔서 수행하면 수행 시간과 수렴 여부가 달라짐\n",
        "  + 적절한 학습률을 찾기 위해 그리드 탐색 사용(너무 오래 걸리는 것을 막기 위해 반복 횟수 제한)\n",
        "  + 반복 횟수를 아주 크게 지정하고 그레이디언트 벡터가 아주 작아지면(허용오차보다 작을 때) 경사 하강법이 거의 최솟값에 도달한 것이므로 알고리즘을 중지\n",
        "\n",
        "\n",
        "###**4.2.2 확률적 경사 하강법**\n",
        "- 배치 경사 하강법의 가장 큰 문제: 매 스텝에서 전체 훈련 세트를 사용해 그레이디언트를 계산한다는 사실\n",
        "  + 훈련 세트가 커지면 속도가 매우 느려짐\n",
        "\n",
        "- 확률적 경사 하강법: 매 스텝에서 한 개의 샘플을 무작위로 선택하고 그 하나의 샘플에 대한 그레이디언트를 계산\n",
        "  + 다뤄야 할 데이터가 매우 적기 때문에 알고리즘의 속도가 더 빠름\n",
        "  + 반면 확률적이기 때문에 배치 경사 하강법보다 불안정\n",
        "    + 비용 함수가 최솟값에 다다를 때까지 부드럽게 감소하지 않고 위아래로 요동치면서 평균적으로 감소(최적치가 아님)\n",
        "    + 배치 경사하강법보다 지역 최솟값을 건너뛰어 전역 최솟값을 가능성이 높음\n",
        "\n",
        "- 학습률을 점진적으로 감소시켜 위의 문제 해결 가능\n",
        "  + 담금질 기법 알고리즘과 유사\n",
        "  + 학습 스케줄: 매 반복에서 학습률을 결정하는 함수\n",
        "  + 이때 학습률이 너무 천천히 감소하면 훈련을 일찍 종료하여 지역 최솟값에 머물수도 있음음"
      ],
      "metadata": {
        "id": "6rIuENOeJ5zv"
      }
    },
    {
      "cell_type": "code",
      "source": [
        "n_epochs = 50\n",
        "t0, t1 = 5, 50  # 학습 스케줄 하이퍼파라미터\n",
        "\n",
        "def learning_schedule(t):\n",
        "    return t0 / (t + t1)\n",
        "\n",
        "theta = np.random.randn(2,1)  # 무작위 초기화화\n",
        "\n",
        "for epoch in range(n_epochs):\n",
        "    for i in range(m):\n",
        "        random_index = np.random.randint(m)\n",
        "        xi = x_b[random_index:random_index+1]\n",
        "        yi = y[random_index:random_index+1]\n",
        "        gradients = 2 * xi.T.dot(xi.dot(theta) - yi)\n",
        "        eta = learning_schedule(epoch * m + i)\n",
        "        theta = theta - eta * gradients"
      ],
      "metadata": {
        "id": "ZL3mC6pgJuAJ"
      },
      "execution_count": null,
      "outputs": []
    },
    {
      "cell_type": "markdown",
      "source": [
        "> - 에포크; 한 반복에서 m번 되풀이되고, 이때의 각 반복을 의미함함"
      ],
      "metadata": {
        "id": "30WK3YYEL_01"
      }
    },
    {
      "cell_type": "code",
      "source": [
        "theta"
      ],
      "metadata": {
        "colab": {
          "base_uri": "https://localhost:8080/"
        },
        "id": "e4Fcg8PKL-lV",
        "outputId": "190919b6-fdab-44c5-a5c0-500812bf90b7"
      },
      "execution_count": null,
      "outputs": [
        {
          "output_type": "execute_result",
          "data": {
            "text/plain": [
              "array([[3.59058742],\n",
              "       [3.33172816]])"
            ]
          },
          "metadata": {},
          "execution_count": 16
        }
      ]
    },
    {
      "cell_type": "markdown",
      "source": [
        "- 샘플을 무작위로 선택하기 때문에 샘플은 한 에포크에서 여러 번 선택될 수 있고 전혀 선택되지 못할 수도 있음\n",
        "  + 모든 샘플을 사용하게 하기 위해 훈련 세트를 섞은 후 차례대로 하나씩 선택 후 다음 에포크에서 다시 섞는 방법 사용(수렴에 걸리는 시간은 더 늘어남)\n",
        "\n",
        "- 사이킷런에서 SGD 방식으로 선형 회귀를 사용하려면 기본값으로 제곱 오차 비용 함수를 최적화하는 SGDRegressor 클래스 사용"
      ],
      "metadata": {
        "id": "9G94aWpFMHyv"
      }
    },
    {
      "cell_type": "code",
      "source": [
        "from sklearn.linear_model import SGDRegressor\n",
        "\n",
        "sgd_reg = SGDRegressor(max_iter=1000, tol=1e-3, penalty=None, eta0=0.1, random_state=42)\n",
        "sgd_reg.fit(x, y.ravel())"
      ],
      "metadata": {
        "colab": {
          "base_uri": "https://localhost:8080/",
          "height": 75
        },
        "id": "qowkUeZSMGJU",
        "outputId": "5244e78f-1059-4109-feae-6a78160e301b"
      },
      "execution_count": null,
      "outputs": [
        {
          "output_type": "execute_result",
          "data": {
            "text/plain": [
              "SGDRegressor(eta0=0.1, penalty=None, random_state=42)"
            ],
            "text/html": [
              "<style>#sk-container-id-1 {color: black;background-color: white;}#sk-container-id-1 pre{padding: 0;}#sk-container-id-1 div.sk-toggleable {background-color: white;}#sk-container-id-1 label.sk-toggleable__label {cursor: pointer;display: block;width: 100%;margin-bottom: 0;padding: 0.3em;box-sizing: border-box;text-align: center;}#sk-container-id-1 label.sk-toggleable__label-arrow:before {content: \"▸\";float: left;margin-right: 0.25em;color: #696969;}#sk-container-id-1 label.sk-toggleable__label-arrow:hover:before {color: black;}#sk-container-id-1 div.sk-estimator:hover label.sk-toggleable__label-arrow:before {color: black;}#sk-container-id-1 div.sk-toggleable__content {max-height: 0;max-width: 0;overflow: hidden;text-align: left;background-color: #f0f8ff;}#sk-container-id-1 div.sk-toggleable__content pre {margin: 0.2em;color: black;border-radius: 0.25em;background-color: #f0f8ff;}#sk-container-id-1 input.sk-toggleable__control:checked~div.sk-toggleable__content {max-height: 200px;max-width: 100%;overflow: auto;}#sk-container-id-1 input.sk-toggleable__control:checked~label.sk-toggleable__label-arrow:before {content: \"▾\";}#sk-container-id-1 div.sk-estimator input.sk-toggleable__control:checked~label.sk-toggleable__label {background-color: #d4ebff;}#sk-container-id-1 div.sk-label input.sk-toggleable__control:checked~label.sk-toggleable__label {background-color: #d4ebff;}#sk-container-id-1 input.sk-hidden--visually {border: 0;clip: rect(1px 1px 1px 1px);clip: rect(1px, 1px, 1px, 1px);height: 1px;margin: -1px;overflow: hidden;padding: 0;position: absolute;width: 1px;}#sk-container-id-1 div.sk-estimator {font-family: monospace;background-color: #f0f8ff;border: 1px dotted black;border-radius: 0.25em;box-sizing: border-box;margin-bottom: 0.5em;}#sk-container-id-1 div.sk-estimator:hover {background-color: #d4ebff;}#sk-container-id-1 div.sk-parallel-item::after {content: \"\";width: 100%;border-bottom: 1px solid gray;flex-grow: 1;}#sk-container-id-1 div.sk-label:hover label.sk-toggleable__label {background-color: #d4ebff;}#sk-container-id-1 div.sk-serial::before {content: \"\";position: absolute;border-left: 1px solid gray;box-sizing: border-box;top: 0;bottom: 0;left: 50%;z-index: 0;}#sk-container-id-1 div.sk-serial {display: flex;flex-direction: column;align-items: center;background-color: white;padding-right: 0.2em;padding-left: 0.2em;position: relative;}#sk-container-id-1 div.sk-item {position: relative;z-index: 1;}#sk-container-id-1 div.sk-parallel {display: flex;align-items: stretch;justify-content: center;background-color: white;position: relative;}#sk-container-id-1 div.sk-item::before, #sk-container-id-1 div.sk-parallel-item::before {content: \"\";position: absolute;border-left: 1px solid gray;box-sizing: border-box;top: 0;bottom: 0;left: 50%;z-index: -1;}#sk-container-id-1 div.sk-parallel-item {display: flex;flex-direction: column;z-index: 1;position: relative;background-color: white;}#sk-container-id-1 div.sk-parallel-item:first-child::after {align-self: flex-end;width: 50%;}#sk-container-id-1 div.sk-parallel-item:last-child::after {align-self: flex-start;width: 50%;}#sk-container-id-1 div.sk-parallel-item:only-child::after {width: 0;}#sk-container-id-1 div.sk-dashed-wrapped {border: 1px dashed gray;margin: 0 0.4em 0.5em 0.4em;box-sizing: border-box;padding-bottom: 0.4em;background-color: white;}#sk-container-id-1 div.sk-label label {font-family: monospace;font-weight: bold;display: inline-block;line-height: 1.2em;}#sk-container-id-1 div.sk-label-container {text-align: center;}#sk-container-id-1 div.sk-container {/* jupyter's `normalize.less` sets `[hidden] { display: none; }` but bootstrap.min.css set `[hidden] { display: none !important; }` so we also need the `!important` here to be able to override the default hidden behavior on the sphinx rendered scikit-learn.org. See: https://github.com/scikit-learn/scikit-learn/issues/21755 */display: inline-block !important;position: relative;}#sk-container-id-1 div.sk-text-repr-fallback {display: none;}</style><div id=\"sk-container-id-1\" class=\"sk-top-container\"><div class=\"sk-text-repr-fallback\"><pre>SGDRegressor(eta0=0.1, penalty=None, random_state=42)</pre><b>In a Jupyter environment, please rerun this cell to show the HTML representation or trust the notebook. <br />On GitHub, the HTML representation is unable to render, please try loading this page with nbviewer.org.</b></div><div class=\"sk-container\" hidden><div class=\"sk-item\"><div class=\"sk-estimator sk-toggleable\"><input class=\"sk-toggleable__control sk-hidden--visually\" id=\"sk-estimator-id-1\" type=\"checkbox\" checked><label for=\"sk-estimator-id-1\" class=\"sk-toggleable__label sk-toggleable__label-arrow\">SGDRegressor</label><div class=\"sk-toggleable__content\"><pre>SGDRegressor(eta0=0.1, penalty=None, random_state=42)</pre></div></div></div></div></div>"
            ]
          },
          "metadata": {},
          "execution_count": 18
        }
      ]
    },
    {
      "cell_type": "code",
      "source": [
        "sgd_reg.intercept_, sgd_reg.coef_"
      ],
      "metadata": {
        "colab": {
          "base_uri": "https://localhost:8080/"
        },
        "id": "RbSGtum8MpdE",
        "outputId": "a19ed17c-cf1f-4dd5-c3b5-7c06094682db"
      },
      "execution_count": null,
      "outputs": [
        {
          "output_type": "execute_result",
          "data": {
            "text/plain": [
              "(array([3.53466672]), array([3.27952595]))"
            ]
          },
          "metadata": {},
          "execution_count": 19
        }
      ]
    },
    {
      "cell_type": "markdown",
      "source": [
        "###**4.2.3 미니배치 경사 하강법**\n",
        "- 미니배치라 부르는 임의의 작은 샘플 세트에 대해 그레이디언트 계산\n",
        "  + 행렬 연산에 최적화된 하드웨어(GPU)를 사용해서 성능을 향상시킴\n",
        "- 미니배치 경사 하강법은 SGD보다 최솟값에 더 가까이 도달하지만 지역 최솟값에서 빠져나오기 힘들다는 단점이 있음\n",
        "  + 적절한 학습 스케줄을 사용하면 최솟값에 도달 가능"
      ],
      "metadata": {
        "id": "dG7dffGRMwQp"
      }
    },
    {
      "cell_type": "markdown",
      "source": [
        "###**4.3 다항 회귀**\n",
        "- 다항 회귀: 데이터가 비선형 데이터일 때, 각 특성의 거듭제곱을 새로운 특성으로 추가하고, 특성을 모두 포함한 데이터셋에 선형 모델을 훈련시키는 기법"
      ],
      "metadata": {
        "id": "lwkznrGBNTPa"
      }
    },
    {
      "cell_type": "code",
      "source": [
        "m = 100\n",
        "x = 6 * np.random.rand(m, 1) - 3\n",
        "y = 0.5 * x**2 + x + 2 + np.random.randn(m, 1)"
      ],
      "metadata": {
        "id": "bunhWrOkMvOD"
      },
      "execution_count": null,
      "outputs": []
    },
    {
      "cell_type": "code",
      "source": [
        "plt.plot(x, y, \"b.\")\n",
        "plt.xlabel(\"$x_1$\", fontsize=18)\n",
        "plt.ylabel(\"$y$\", rotation=0, fontsize=18)\n",
        "plt.axis([-3, 3, 0, 10])\n",
        "plt.show()"
      ],
      "metadata": {
        "colab": {
          "base_uri": "https://localhost:8080/",
          "height": 291
        },
        "id": "-BOL2k9ZN4vZ",
        "outputId": "fcfa6319-f7f2-4ffb-cb5b-643095d8fc5c"
      },
      "execution_count": null,
      "outputs": [
        {
          "output_type": "display_data",
          "data": {
            "text/plain": [
              "<Figure size 432x288 with 1 Axes>"
            ],
            "image/png": "[encoded data removed]"
          },
          "metadata": {
            "needs_background": "light"
          }
        }
      ]
    },
    {
      "cell_type": "markdown",
      "source": [
        "> 사이킷런의 PolynomialFeatures를 사용해 훈련 데이터 변환 "
      ],
      "metadata": {
        "id": "yPGmkB2SOCoK"
      }
    },
    {
      "cell_type": "code",
      "source": [
        "from sklearn.preprocessing import PolynomialFeatures\n",
        "poly_features = PolynomialFeatures(degree=2, include_bias=False)\n",
        "x_poly = poly_features.fit_transform(x)\n",
        "x[0]"
      ],
      "metadata": {
        "colab": {
          "base_uri": "https://localhost:8080/"
        },
        "id": "zISQ8QhROA5I",
        "outputId": "63be1ee6-079e-4ec4-c918-4ac5252803ae"
      },
      "execution_count": null,
      "outputs": [
        {
          "output_type": "execute_result",
          "data": {
            "text/plain": [
              "array([-2.42902892])"
            ]
          },
          "metadata": {},
          "execution_count": 22
        }
      ]
    },
    {
      "cell_type": "code",
      "source": [
        "x_poly[0]"
      ],
      "metadata": {
        "colab": {
          "base_uri": "https://localhost:8080/"
        },
        "id": "m3zs-rZ_OTTF",
        "outputId": "d9d63227-0534-4275-9eb6-1dfa58d7bb54"
      },
      "execution_count": null,
      "outputs": [
        {
          "output_type": "execute_result",
          "data": {
            "text/plain": [
              "array([-2.42902892,  5.9001815 ])"
            ]
          },
          "metadata": {},
          "execution_count": 23
        }
      ]
    },
    {
      "cell_type": "markdown",
      "source": [
        "> - x_poly는 원래의 특성 x와 이 특성의 제곱 포함\n",
        "    + Linear Regression 적용용"
      ],
      "metadata": {
        "id": "fXdbVjpKOWQC"
      }
    },
    {
      "cell_type": "code",
      "source": [
        "lin_reg = LinearRegression()\n",
        "lin_reg.fit(x_poly, y)\n",
        "lin_reg.intercept_, lin_reg.coef_"
      ],
      "metadata": {
        "colab": {
          "base_uri": "https://localhost:8080/"
        },
        "id": "yO9zzALvOVMC",
        "outputId": "23374f61-cb38-4549-f076-196979311cb7"
      },
      "execution_count": null,
      "outputs": [
        {
          "output_type": "execute_result",
          "data": {
            "text/plain": [
              "(array([1.81073394]), array([[1.01378509, 0.52422398]]))"
            ]
          },
          "metadata": {},
          "execution_count": 24
        }
      ]
    },
    {
      "cell_type": "code",
      "source": [
        "x_new=np.linspace(-3, 3, 100).reshape(100, 1)\n",
        "x_new_poly = poly_features.transform(x_new)\n",
        "y_new = lin_reg.predict(x_new_poly)\n",
        "\n",
        "plt.plot(x, y, \"b.\")\n",
        "plt.plot(x_new, y_new, \"r-\", linewidth=2)\n",
        "\n",
        "plt.xlabel(\"$x_1$\", fontsize=18)\n",
        "plt.ylabel(\"$y$\", rotation=0, fontsize=18)\n",
        "plt.axis([-3, 3, 0, 10])\n",
        "\n",
        "plt.show()"
      ],
      "metadata": {
        "colab": {
          "base_uri": "https://localhost:8080/",
          "height": 291
        },
        "id": "IJDEVzgLOjCK",
        "outputId": "822a8cbc-8491-42fb-f3d5-800c696b94c6"
      },
      "execution_count": null,
      "outputs": [
        {
          "output_type": "display_data",
          "data": {
            "text/plain": [
              "<Figure size 432x288 with 1 Axes>"
            ],
            "image/png": "[encoded data removed]"
          },
          "metadata": {
            "needs_background": "light"
          }
        }
      ]
    },
    {
      "cell_type": "markdown",
      "source": [
        "> - 다항 회귀는 특성 사이의 관계를 찾을 수 있음\n",
        "    + PolynomialFeatures가 주어진 차수까지 특성 간의 모든 교차항을 추가하기 때문\n",
        "\n",
        "\n",
        "###**4.4 학습 곡선**\n",
        "- 고차 다항 회귀를 적용하면 보통의 선형 회귀에서보다 더 훈련 데이터에 잘 맞춰짐\n",
        "- 모델이 과대적합/과소적합 됐는지 확인을 위해 학습 곡선을 살펴볼 수 있음\n",
        "  + 학습 곡선: 훈련 세트와 검증 세트의 모델 성능을 훈련 세트 크기의 함수로 나타냄"
      ],
      "metadata": {
        "id": "aJdPcGSDO9oG"
      }
    },
    {
      "cell_type": "code",
      "source": [
        "# 학습 곡선 그리는 함수 정의\n",
        "from sklearn.metrics import mean_squared_error\n",
        "from sklearn.model_selection import train_test_split\n",
        "\n",
        "def plot_learning_curves(model, X, y):\n",
        "    X_train, X_val, y_train, y_val = train_test_split(X, y, test_size=0.2, random_state=10)\n",
        "    train_errors, val_errors = [], []\n",
        "    for m in range(1, len(X_train) + 1):\n",
        "        model.fit(X_train[:m], y_train[:m])\n",
        "        y_train_predict = model.predict(X_train[:m])\n",
        "        y_val_predict = model.predict(X_val)\n",
        "        train_errors.append(mean_squared_error(y_train[:m], y_train_predict))\n",
        "        val_errors.append(mean_squared_error(y_val, y_val_predict))\n",
        "    plt.plot(np.sqrt(train_errors), \"r-+\", linewidth=2, label=\"train set\")\n",
        "    plt.plot(np.sqrt(val_errors), \"b-\", linewidth=3, label=\"valid set\")"
      ],
      "metadata": {
        "id": "wAcrKwhYO28M"
      },
      "execution_count": null,
      "outputs": []
    },
    {
      "cell_type": "code",
      "source": [
        "lin_reg = LinearRegression()\n",
        "plot_learning_curves(lin_reg, x, y)"
      ],
      "metadata": {
        "colab": {
          "base_uri": "https://localhost:8080/",
          "height": 265
        },
        "id": "1X7C0Z4GP3ds",
        "outputId": "4232a38c-930e-41e7-a94a-22b6332b6997"
      },
      "execution_count": null,
      "outputs": [
        {
          "output_type": "display_data",
          "data": {
            "text/plain": [
              "<Figure size 432x288 with 1 Axes>"
            ],
            "image/png": "[encoded data removed]"
          },
          "metadata": {
            "needs_background": "light"
          }
        }
      ]
    },
    {
      "cell_type": "markdown",
      "source": [
        "> - 위의 학습 곡선은 과소적합 모델의 전형적인 모습\n",
        "    + 곡선이 어느 정도 평편해질 때까지 오차가 계속 상승\n",
        "    + 훈련 샘플이 추가됨에 따라 학습이 되어 검증 오차는 천천히 감소 "
      ],
      "metadata": {
        "id": "AcWBJX-gQaGZ"
      }
    },
    {
      "cell_type": "code",
      "source": [
        "from sklearn.pipeline import Pipeline\n",
        "\n",
        "polynomial_regression = Pipeline([\n",
        "        (\"poly_features\", PolynomialFeatures(degree=10, include_bias=False)),\n",
        "        (\"lin_reg\", LinearRegression()),\n",
        "    ])\n",
        "\n",
        "plot_learning_curves(polynomial_regression, x, y)\n",
        "plt.axis([0, 80, 0, 3])  \n",
        "\n",
        "plt.show() "
      ],
      "metadata": {
        "colab": {
          "base_uri": "https://localhost:8080/",
          "height": 269
        },
        "id": "OKh0DURjP761",
        "outputId": "070e357d-d81e-4ea2-d5f7-71548e6a07fa"
      },
      "execution_count": null,
      "outputs": [
        {
          "output_type": "display_data",
          "data": {
            "text/plain": [
              "<Figure size 432x288 with 1 Axes>"
            ],
            "image/png": "[encoded data removed]"
          },
          "metadata": {
            "needs_background": "light"
          }
        }
      ]
    },
    {
      "cell_type": "markdown",
      "source": [
        "> - 훈련 데이터의 오차가 선형 회귀 모델보다 훨씬 낮음\n",
        "  - 두 곡선 사이에 공간 존재\n",
        "    + 훈련 데이터에서의 모델 성능이 검증 데이터에서보다 훨씬 낫다는 뜻이고, 과대적합 모델의 특징\n",
        "    + 더 큰 훈련 세트를 사용하면 두 곡선이 점점 가까워짐짐"
      ],
      "metadata": {
        "id": "TLhYuyFxQ6Ra"
      }
    },
    {
      "cell_type": "markdown",
      "source": [
        "###**4.5 규제가 있는 선형 모델**\n",
        "- 과대적합을 감소시키는 좋은 방법은 모델을 규제하는 것(모델 제한)\n",
        "  + 선형 회귀 모델에서는 보통 모델의 가중치를 제한함으로써 규제를 가함\n",
        "\n",
        "###**4.5.1 릿지 회귀**\n",
        "- 릿지 회귀: 규제항  $\\alpha \\sum^n_{i=1} \\theta_i^2$가 비용 함수에 추가\n",
        "  + 모델의 가중치가 가능한 한 작게 유지되도록 노력\n",
        "  + 규제항은 훈련 동안에만 비용 함수에 추가\n",
        "  + 모델의 훈련이 끝난 후에는 모델의 성능을 규제가 없는 성능 지표로 평가\n",
        "\n",
        "- 하이퍼파라미터 $\\alpha$는 모델을 얼마나 많이 규제할지 조절\n",
        "  + $\\alpha = 0$의 릿지 회귀는 선형 회귀와 동일\n",
        "  + $\\alpha$의 값이 크면 모든 가중치가 거의 0에 가까워지고 결국 데이터의 평균을 지나는 수평선이 됨\n",
        "\n",
        "- 릿지 회귀의 비용 함수\n",
        "$$ J(\\theta) = MSE(\\theta) + \\alpha \\frac{1}{2} \\sum^n_{i=1} \\theta^2_i$$\n",
        "\n",
        "  + 편향 $\\theta_0$은 규제되지 않음\n",
        "  + w를 특성의 가중치 벡터라고 정의할 때, 규제항은 $1/2( \\lvert \\lvert w \\rvert \\rvert_2)^2$와 동일일\n",
        "  + 경사 하강법에 적용하려면 MSE의 그레디언트에 $\\alpha$w를 더함\n",
        "\n",
        "- $\\alpha$가 증가할수록 직선에 가까워짐\n",
        "  + 모델의 분산 감소, 편향 증가\n",
        "\n",
        "- 선형 회귀와 마찬가지로, 릿지 회귀에 정규방정식, 경사 하강법 사용 가능"
      ],
      "metadata": {
        "id": "_huPwMDfRJDl"
      }
    },
    {
      "cell_type": "code",
      "source": [
        "from sklearn.linear_model import Ridge\n",
        "ridge_reg = Ridge(alpha=1, solver=\"cholesky\")\n",
        "ridge_reg.fit(x, y)\n",
        "ridge_reg.predict([[1.5]])"
      ],
      "metadata": {
        "colab": {
          "base_uri": "https://localhost:8080/"
        },
        "id": "FY6cpNJdTMvS",
        "outputId": "35da44b3-2cd7-455e-8547-242cad882b48"
      },
      "execution_count": null,
      "outputs": [
        {
          "output_type": "execute_result",
          "data": {
            "text/plain": [
              "array([[4.82656862]])"
            ]
          },
          "metadata": {},
          "execution_count": 30
        }
      ]
    },
    {
      "cell_type": "code",
      "source": [
        "# 확률적 경사 하강법 사용\n",
        "sgd_reg = SGDRegressor(penalty=\"l2\")\n",
        "sgd_reg.fit(x, y.ravel())\n",
        "sgd_reg.predict([[1.5]])"
      ],
      "metadata": {
        "colab": {
          "base_uri": "https://localhost:8080/"
        },
        "id": "a9OPaCLgTSUp",
        "outputId": "d208b176-add3-4d0d-c878-cfd2b2a74f5d"
      },
      "execution_count": null,
      "outputs": [
        {
          "output_type": "execute_result",
          "data": {
            "text/plain": [
              "array([4.80326766])"
            ]
          },
          "metadata": {},
          "execution_count": 31
        }
      ]
    },
    {
      "cell_type": "markdown",
      "source": [
        "> - penalty 매개변수는 사용할 규제 지정\n",
        "    + \"l2\"는 릿지회귀를 의미\n",
        "\n",
        "\n",
        "###**4.5.2 라쏘 회귀**\n",
        "- 라쏘 회귀: 릿지 회귀처럼 비용 함수에 규제항을 더하지만 가중치 벡터의 노름을 사용\n",
        "$$J(\\theta) = MSE(\\theta) + \\alpha \\sum^n_{i=1} \\lvert \\theta_i \\rvert$$\n",
        "- 덜 중요한 특성의 가중치를 제거하려고 한다는 특징이 있음\n",
        "  + 즉, 자동으로 특성 선택을 하고 희소 모델을 생성\n",
        "\n",
        "- 릿지 회귀, 라쏘 회귀의 비용 함수 차이점\n",
        "  + 파라미터가 전역 최적점에 가까워질수록 그레이디언트가 작아짐\n",
        "    + 즉, 경사 하강법이 자동으로 느려져 수렴에 도움됨\n",
        "  + $\\alpha$를 증가시킬수록 최적의 파라미터가 원점에 가까워짐(0이 되진 않음)\n",
        "\n",
        "- 라쏘의 비용 함수는 $\\theta_i = 0$일 때 미분 불가능\n",
        "  + 서브그레이디언트 벡터 $g$를 사용하면 경사 하강법을 적용할 수 있음\n",
        "  + 서브그레이디언트 벡터 공식\n",
        "  $$g(\\theta, J)= \\nabla_{\\theta} MSE(\\theta) + \\alpha \n",
        "\\begin{pmatrix}\n",
        "sign(\\theta_1)  \\\\\n",
        "sign(\\theta_2)  \\\\ ... \\\\ \n",
        "sign(\\theta_n) \\end{pmatrix}\n",
        ",sign(\\theta_i)\n",
        "\\begin{cases} \n",
        "-1,\\;if\\; \\theta_i < 0\\\\\n",
        "0,\\;if\\;\\theta_i = 0\\\\\n",
        "1,\\;if\\;\\theta_i > 0\n",
        "\\end{cases}$$"
      ],
      "metadata": {
        "id": "YvR8jyd9TfUS"
      }
    },
    {
      "cell_type": "code",
      "source": [
        "from sklearn.linear_model import Lasso\n",
        "lasso_reg = Lasso(alpha=0.1)\n",
        "lasso_reg.fit(x, y)\n",
        "lasso_reg.predict([[1.5]])"
      ],
      "metadata": {
        "colab": {
          "base_uri": "https://localhost:8080/"
        },
        "id": "Map3NnxrTeSr",
        "outputId": "6721b8b6-f898-46f8-cd6f-1281d7d3d228"
      },
      "execution_count": null,
      "outputs": [
        {
          "output_type": "execute_result",
          "data": {
            "text/plain": [
              "array([4.78172392])"
            ]
          },
          "metadata": {},
          "execution_count": 32
        }
      ]
    },
    {
      "cell_type": "markdown",
      "source": [
        "> - Lass0 대신 SGDRegressor(penalty=\"l1\") 사용 가능"
      ],
      "metadata": {
        "id": "0eURWpAsVdYP"
      }
    },
    {
      "cell_type": "markdown",
      "source": [
        "###**4.5.3 엘라스틱넷**\n",
        "- 엘라스틱넷: 릿지 회귀와 라쏘 회귀를 절충한 모델\n",
        "  + 혼합 정도는 혼합 비율$r$을 사용해 조절\n",
        "  + $r = 0$이면 릿지 회귀, $r = 1$이면 라쏘 회귀와 동일\n",
        "\n",
        "- 엘라스틱넷의 비용 함수\n",
        "$$J(\\theta) = MSE(\\theta) + r\\alpha \\sum^n_{i=1} \\lvert \\theta_i \\rvert + \\frac{1-r}{2} \\alpha \\sum^n_{i=1} \\theta^2_i$$\n",
        "\n",
        "- 규제가 약간 있는 것이 대부분의 경우에 좋으므로 일반적으로 평범한 선형 회귀는 피해야함\n",
        "  + 릿지가 기본이 되지만 쓰이는 특성이 몇 개뿐이라고 의심되면 라쏘나 엘라스틱넷 사용\n",
        "  + 릿지나 엘라스틱넷은 불필요한 특성의 가중치를 0으로 만듦\n",
        "  + 특성 수가 훈련 샘플 수보다 많거나 특성 몇 개가 강하게 연관되어 있을 떄는 보통 라쏘보다는 엘라스틱넷 선호 "
      ],
      "metadata": {
        "id": "hnIQ5mUdViaw"
      }
    },
    {
      "cell_type": "code",
      "source": [
        "from sklearn.linear_model import ElasticNet\n",
        "elastic_net = ElasticNet(alpha=0.1, l1_ratio=0.5)\n",
        "elastic_net.fit(x, y)\n",
        "elastic_net.predict([[1.5]])"
      ],
      "metadata": {
        "colab": {
          "base_uri": "https://localhost:8080/"
        },
        "id": "jH005KOwVclV",
        "outputId": "b4dfe183-4cbd-4146-d884-0ad1e8c6e9c8"
      },
      "execution_count": null,
      "outputs": [
        {
          "output_type": "execute_result",
          "data": {
            "text/plain": [
              "array([4.78392534])"
            ]
          },
          "metadata": {},
          "execution_count": 33
        }
      ]
    },
    {
      "cell_type": "markdown",
      "source": [
        "###**4.5.4 조기 종료**\n",
        "- 경사 하강법과 같은 반복적인 학습 알고리즘을 규제하는 또 다른 방법은 검증 에러가 최솟값에 도달하면 바로 훈련을 중지 시키는 것\n",
        "  + 모델이 훈련 데이터에 과대적합하기 전, 즉 에러가 최소에 도달하는 즉시 훈련을 멈춤 "
      ],
      "metadata": {
        "id": "ogg9r99DWYgL"
      }
    },
    {
      "cell_type": "code",
      "source": [
        "# 조기 종료를 위한 기본적인 구현 코드\n",
        "\n",
        "from copy import deepcopy\n",
        "from sklearn.preprocessing import StandardScaler\n",
        "X_train, X_val, y_train, y_val = train_test_split(x[:50], y[:50].ravel(), test_size=0.5, random_state=10)\n",
        "\n",
        "# 데이터 준비\n",
        "poly_scaler = Pipeline([\n",
        "        (\"poly_features\", PolynomialFeatures(degree=90, include_bias=False)),\n",
        "        (\"std_scaler\", StandardScaler())\n",
        "    ])\n",
        "X_train_poly_scaled = poly_scaler.fit_transform(X_train)\n",
        "X_val_poly_scaled = poly_scaler.transform(X_val)\n",
        "\n",
        "sgd_reg = SGDRegressor(max_iter=1, tol=None, warm_start=True,\n",
        "                       penalty=None, learning_rate=\"constant\", eta0=0.0005)\n",
        "\n",
        "minimum_val_error = float(\"inf\")\n",
        "best_epoch = None\n",
        "best_model = None\n",
        "for epoch in range(1000):\n",
        "    sgd_reg.fit(X_train_poly_scaled, y_train)  # 훈련을 이어서 진행\n",
        "    y_val_predict = sgd_reg.predict(X_val_poly_scaled)\n",
        "    val_error = mean_squared_error(y_val, y_val_predict)\n",
        "    if val_error < minimum_val_error:\n",
        "        minimum_val_error = val_error\n",
        "        best_epoch = epoch\n",
        "        best_model = deepcopy(sgd_reg)"
      ],
      "metadata": {
        "id": "D-e1923jWYA0"
      },
      "execution_count": null,
      "outputs": []
    },
    {
      "cell_type": "markdown",
      "source": [
        "> SGDRegressor의 tol 파라미터 오류,, None으로 설정해서 해결\n",
        "\n",
        "- warm_start = True로 지정하면 fit() 메서드가 호출될 때 처음부터 다시 시작하지 않고 이전 모델 파라미터에서 훈련을 이어감"
      ],
      "metadata": {
        "id": "DxjwP7MQX9yE"
      }
    },
    {
      "cell_type": "markdown",
      "source": [
        "###**4.6 로지스틱 회귀**\n",
        "- 로지스틱 회귀: 회귀 알고리즘을 분류에서 사용할 수 있게함\n",
        "  + 추정 확률이 50%가 넘어가면 샘플이 해당 클래스에 속한다고 예측(양성 클래스)\n",
        "  + 반대의 경우 속하지 않는다고 예측(음성 클래스)\n",
        "  + 이를 이진 분류기라고 함\n",
        "\n",
        "\n",
        "###**4.6.1 확률 추정**\n",
        "- 로지스틱 회귀 모델은 선형 회귀와 마찬가지로 입력 특성의 가중치 합을 계산 후 편향을 더함\n",
        "  + 그러나 바로 결과를 출력하지 않고 결괏값의 로지스틱을 출력\n",
        "  $$\\hat{p} = h_{\\theta}(x) = \\sigma(\\theta^T x)$$\n",
        "\n",
        "- 로지스틱은 0과 1 사이의 값을 출력하는 시그모이드 함수\n",
        "$$ \\sigma(t) = \\frac{1}{1 + exp(-t)}$$\n",
        "\n",
        "- 로지스틱 회귀 모델이 샘플x가 양성 클래스에 속핳 롹률을 추정하면 이에 대한 예측을 쉽게 구할 수 있음\n",
        "  + $\\theta^T x$가 양수일 때 1, 음수일 때 0으로 예측\n",
        "\n",
        "\n",
        "###**4.6.2 훈련과 비용 함수**\n",
        "- 훈련의 목적은 양성 샘플에 대해서는 높은 확률을 추정하고, 음성 샘플에 대해서는 낮은 확률을 추정하는 모델의 파라미터 벡터 $\\theta$를 찾는 것\n",
        "$$c(\\theta)=\n",
        "\\begin{cases}\n",
        "-log(\\hat{p}),\\;if\\;y=1\\\\\n",
        "-log(1-\\hat{p}),\\;if\\; y=0\n",
        "\\end{cases}$$\n",
        "\n",
        "- 전체 훈련 세트에 대한 비용 함수는 모든 훈련 샘플의 비용을 평균한 것\n",
        "  + 이른 로그 손실이라고 부름\n",
        "  $$J(\\theta)= - \\frac{1}{m} \\sum_{i=1}^m [y^{(i)}log(\\hat{p}^{(i)})\n",
        "+ (1-y^{(i)})log(1-\\hat{p}^{(i)})]$$\n",
        "\n",
        "- 이 비용 함수의 최솟값을 계산하는 알려진 해는 없음\n",
        "  + 그러나 비용 함수가 볼록 함수이므로 경사 하강법이 전역 최솟값을 찾는다는 것을 보장함\n",
        "  + 비용 함수의 j번째 모델 파라미터 $\\theta_j$에 대해 편미분한 식\n",
        "  $$ \\frac{\\partial}{\\partial \\theta_j}J(\\theta)= \\frac{1}{m} \\sum_{i=1}^m(\\sigma (\\theta^T x^{(i)}) - y^{(i)})x_j^{(i)}$$\n",
        "\n",
        "  + 모든 편도함수를 포함한 그레이디언트 벡터를 만들면 배치 경사 하강법 알고리즘 사용 가능\n",
        "\n",
        "\n",
        "###**4.6.3 결정 정계**\n",
        "- 로지스틱 회귀를 설명하기 위해 붓꽃 데이터셋 사용\n",
        "  + 꽃잎 너비를 기반으로 Iris-Versicolor 종을 감지하는 분류기 생성"
      ],
      "metadata": {
        "id": "sADmtfFCYMRy"
      }
    },
    {
      "cell_type": "code",
      "source": [
        "from sklearn import datasets\n",
        "\n",
        "iris = datasets.load_iris()\n",
        "list(iris.keys())"
      ],
      "metadata": {
        "colab": {
          "base_uri": "https://localhost:8080/"
        },
        "id": "SRskVKDFXjsQ",
        "outputId": "09b5fc87-90a2-4893-889e-ceb8d404e0b0"
      },
      "execution_count": null,
      "outputs": [
        {
          "output_type": "execute_result",
          "data": {
            "text/plain": [
              "['data',\n",
              " 'target',\n",
              " 'frame',\n",
              " 'target_names',\n",
              " 'DESCR',\n",
              " 'feature_names',\n",
              " 'filename',\n",
              " 'data_module']"
            ]
          },
          "metadata": {},
          "execution_count": 40
        }
      ]
    },
    {
      "cell_type": "code",
      "source": [
        "X = iris[\"data\"][:, 3:]  # 꽃잎 너비\n",
        "y = (iris[\"target\"] == 2).astype(np.int) # Iris-virginica이면 1, 그렇지 않으면 0"
      ],
      "metadata": {
        "colab": {
          "base_uri": "https://localhost:8080/"
        },
        "id": "BtGpQRvKad0t",
        "outputId": "944e5814-88df-4d6a-e480-cfe8af35c863"
      },
      "execution_count": null,
      "outputs": [
        {
          "output_type": "stream",
          "name": "stderr",
          "text": [
            "<ipython-input-41-035f28acbfa0>:2: DeprecationWarning: `np.int` is a deprecated alias for the builtin `int`. To silence this warning, use `int` by itself. Doing this will not modify any behavior and is safe. When replacing `np.int`, you may wish to use e.g. `np.int64` or `np.int32` to specify the precision. If you wish to review your current use, check the release note link for additional information.\n",
            "Deprecated in NumPy 1.20; for more details and guidance: https://numpy.org/devdocs/release/1.20.0-notes.html#deprecations\n",
            "  y = (iris[\"target\"] == 2).astype(np.int) # Iris-virginica이면 1, 그렇지 않으면 0\n"
          ]
        }
      ]
    },
    {
      "cell_type": "code",
      "source": [
        "# 로지스틱 회귀 모델 훈련\n",
        "from sklearn.linear_model import LogisticRegression\n",
        "\n",
        "log_reg = LogisticRegression()\n",
        "log_reg.fit(X, y)"
      ],
      "metadata": {
        "colab": {
          "base_uri": "https://localhost:8080/",
          "height": 75
        },
        "id": "rc08WQgwafUH",
        "outputId": "c0d22c0d-0203-4c2b-f9a0-f988f6469954"
      },
      "execution_count": null,
      "outputs": [
        {
          "output_type": "execute_result",
          "data": {
            "text/plain": [
              "LogisticRegression()"
            ],
            "text/html": [
              "<style>#sk-container-id-2 {color: black;background-color: white;}#sk-container-id-2 pre{padding: 0;}#sk-container-id-2 div.sk-toggleable {background-color: white;}#sk-container-id-2 label.sk-toggleable__label {cursor: pointer;display: block;width: 100%;margin-bottom: 0;padding: 0.3em;box-sizing: border-box;text-align: center;}#sk-container-id-2 label.sk-toggleable__label-arrow:before {content: \"▸\";float: left;margin-right: 0.25em;color: #696969;}#sk-container-id-2 label.sk-toggleable__label-arrow:hover:before {color: black;}#sk-container-id-2 div.sk-estimator:hover label.sk-toggleable__label-arrow:before {color: black;}#sk-container-id-2 div.sk-toggleable__content {max-height: 0;max-width: 0;overflow: hidden;text-align: left;background-color: #f0f8ff;}#sk-container-id-2 div.sk-toggleable__content pre {margin: 0.2em;color: black;border-radius: 0.25em;background-color: #f0f8ff;}#sk-container-id-2 input.sk-toggleable__control:checked~div.sk-toggleable__content {max-height: 200px;max-width: 100%;overflow: auto;}#sk-container-id-2 input.sk-toggleable__control:checked~label.sk-toggleable__label-arrow:before {content: \"▾\";}#sk-container-id-2 div.sk-estimator input.sk-toggleable__control:checked~label.sk-toggleable__label {background-color: #d4ebff;}#sk-container-id-2 div.sk-label input.sk-toggleable__control:checked~label.sk-toggleable__label {background-color: #d4ebff;}#sk-container-id-2 input.sk-hidden--visually {border: 0;clip: rect(1px 1px 1px 1px);clip: rect(1px, 1px, 1px, 1px);height: 1px;margin: -1px;overflow: hidden;padding: 0;position: absolute;width: 1px;}#sk-container-id-2 div.sk-estimator {font-family: monospace;background-color: #f0f8ff;border: 1px dotted black;border-radius: 0.25em;box-sizing: border-box;margin-bottom: 0.5em;}#sk-container-id-2 div.sk-estimator:hover {background-color: #d4ebff;}#sk-container-id-2 div.sk-parallel-item::after {content: \"\";width: 100%;border-bottom: 1px solid gray;flex-grow: 1;}#sk-container-id-2 div.sk-label:hover label.sk-toggleable__label {background-color: #d4ebff;}#sk-container-id-2 div.sk-serial::before {content: \"\";position: absolute;border-left: 1px solid gray;box-sizing: border-box;top: 0;bottom: 0;left: 50%;z-index: 0;}#sk-container-id-2 div.sk-serial {display: flex;flex-direction: column;align-items: center;background-color: white;padding-right: 0.2em;padding-left: 0.2em;position: relative;}#sk-container-id-2 div.sk-item {position: relative;z-index: 1;}#sk-container-id-2 div.sk-parallel {display: flex;align-items: stretch;justify-content: center;background-color: white;position: relative;}#sk-container-id-2 div.sk-item::before, #sk-container-id-2 div.sk-parallel-item::before {content: \"\";position: absolute;border-left: 1px solid gray;box-sizing: border-box;top: 0;bottom: 0;left: 50%;z-index: -1;}#sk-container-id-2 div.sk-parallel-item {display: flex;flex-direction: column;z-index: 1;position: relative;background-color: white;}#sk-container-id-2 div.sk-parallel-item:first-child::after {align-self: flex-end;width: 50%;}#sk-container-id-2 div.sk-parallel-item:last-child::after {align-self: flex-start;width: 50%;}#sk-container-id-2 div.sk-parallel-item:only-child::after {width: 0;}#sk-container-id-2 div.sk-dashed-wrapped {border: 1px dashed gray;margin: 0 0.4em 0.5em 0.4em;box-sizing: border-box;padding-bottom: 0.4em;background-color: white;}#sk-container-id-2 div.sk-label label {font-family: monospace;font-weight: bold;display: inline-block;line-height: 1.2em;}#sk-container-id-2 div.sk-label-container {text-align: center;}#sk-container-id-2 div.sk-container {/* jupyter's `normalize.less` sets `[hidden] { display: none; }` but bootstrap.min.css set `[hidden] { display: none !important; }` so we also need the `!important` here to be able to override the default hidden behavior on the sphinx rendered scikit-learn.org. See: https://github.com/scikit-learn/scikit-learn/issues/21755 */display: inline-block !important;position: relative;}#sk-container-id-2 div.sk-text-repr-fallback {display: none;}</style><div id=\"sk-container-id-2\" class=\"sk-top-container\"><div class=\"sk-text-repr-fallback\"><pre>LogisticRegression()</pre><b>In a Jupyter environment, please rerun this cell to show the HTML representation or trust the notebook. <br />On GitHub, the HTML representation is unable to render, please try loading this page with nbviewer.org.</b></div><div class=\"sk-container\" hidden><div class=\"sk-item\"><div class=\"sk-estimator sk-toggleable\"><input class=\"sk-toggleable__control sk-hidden--visually\" id=\"sk-estimator-id-2\" type=\"checkbox\" checked><label for=\"sk-estimator-id-2\" class=\"sk-toggleable__label sk-toggleable__label-arrow\">LogisticRegression</label><div class=\"sk-toggleable__content\"><pre>LogisticRegression()</pre></div></div></div></div></div>"
            ]
          },
          "metadata": {},
          "execution_count": 42
        }
      ]
    },
    {
      "cell_type": "code",
      "source": [
        "X_new = np.linspace(0, 3, 1000).reshape(-1, 1)\n",
        "y_proba = log_reg.predict_proba(X_new)\n",
        "\n",
        "plt.plot(X_new, y_proba[:, 1], \"g-\", linewidth=2, label=\"Iris virginica\")\n",
        "plt.plot(X_new, y_proba[:, 0], \"b--\", linewidth=2, label=\"Not Iris virginica\")"
      ],
      "metadata": {
        "colab": {
          "base_uri": "https://localhost:8080/",
          "height": 283
        },
        "id": "Thdr_j1Sagaa",
        "outputId": "6790c9db-4c68-4274-dba9-11913c3bf67c"
      },
      "execution_count": null,
      "outputs": [
        {
          "output_type": "execute_result",
          "data": {
            "text/plain": [
              "[<matplotlib.lines.Line2D at 0x7f311b22d430>]"
            ]
          },
          "metadata": {},
          "execution_count": 43
        },
        {
          "output_type": "display_data",
          "data": {
            "text/plain": [
              "<Figure size 432x288 with 1 Axes>"
            ],
            "image/png": "[encoded data removed]"
          },
          "metadata": {
            "needs_background": "light"
          }
        }
      ]
    },
    {
      "cell_type": "markdown",
      "source": [
        "> - 약간 중첩되는 부분이 있지만 꽃잎 너비가 2cm 이상인 꽃은 분류기가 Iris-Verginica라고 강하게 확신, 1cm 이하면 아니라고 확신\n",
        "- 두 극단 사이에서는 분류가 확실하지 않지만 가장 가능성 높은 클래스를 반환\n",
        "  + 양쪽의 확률이 똑같이 50%가 되는 1.6cm 근방에서 결정 경계가 생성됨됨"
      ],
      "metadata": {
        "id": "q0Zdg5QnaryS"
      }
    },
    {
      "cell_type": "code",
      "source": [
        "log_reg.predict([[1.7], [1.5]])"
      ],
      "metadata": {
        "colab": {
          "base_uri": "https://localhost:8080/"
        },
        "id": "pVb9ZoF1aiAV",
        "outputId": "bed1a0fa-aa81-4b92-8f1a-5d02c7a66cc3"
      },
      "execution_count": null,
      "outputs": [
        {
          "output_type": "execute_result",
          "data": {
            "text/plain": [
              "array([1, 0])"
            ]
          },
          "metadata": {},
          "execution_count": 44
        }
      ]
    },
    {
      "cell_type": "markdown",
      "source": [
        "###**4.6.3 소프트맥스 회귀**\n",
        "- 소프트맥스 회귀(다항 로지스틱 회귀): 여러 개의 이진 분류기를 훈련시켜 연결하지 않고 직접 다중 클래스를 지원하도록 일반화된 것\n",
        "\n",
        "- 샘플 x가 주어지면 먼저 소프트맥스 회귀 모델이 각 클래스 k에 대한 점수 $s_k(x)$를 계산하고, 그 점수에 소프트맥스 함수(정규화된 지수 함수)를 적용하여 각 클래스의 확률 추정\n",
        "$$s_k(x) = (\\theta^{(k)})Tx$$\n",
        "\n",
        "- 각 클래스는 자신만의 파라미터 벡터 $\\theta^(k)$가 존재\n",
        "  + 이 벡터들은 파라미터 행렬에 행으로 저장\n",
        "\n",
        "- 샘플 x에 대해 각 클래스의 점수가 계산되면 소프트맥스 함수를 통과시켜 클래스 k에 속할 확률 $\\hat{p_k}$를 추정 가능\n",
        "  + 로그-오즈라고 부름름\n",
        "$$\\hat{p_k} = \\sigma(s(x))_k = \\frac{exp(s_k (x))}{\\sum_{i=1}^K exp(s_j(x))}$$\n",
        "    + K는 클래스 수\n",
        "    + $s(x)$는 샘플 x에 대한 각 클래스의 점수를 담은 벡터\n",
        "    + $\\sigma(s(x))_k$는 샘플 x에 대한 각 클래스의 점수가 주어졌을 때 이 샘플이 클래스 k에 속할 추정 확률\n",
        "\n",
        "- 로지스틱 회귀 분류기와 마찬가지로 소프트맥스 회귀 분류기는 추정 확률이 가장 높은 클래스를 선택택\n",
        "$$\\hat{y} = argmax \\sigma(s(x))_k = argmax s_k(x) = argmax ((\\theta^{(k)})^T x)$$\n",
        "\n",
        "- 모델이 타깃 클래스에 대해서는 높은 확률을 추정하도록 만드는 것이 목적\n",
        "  + 크로스 엔트로피 비용 함수를 최소화하는 것은 타깃 클래스에 대해 낮은 확률을 예측하는 모델을 억제하므로 이 목적에 부합 \n",
        "  + 크로스 엔트로피 비용 함수\n",
        "  $$J(\\theta) = - \\frac{1}{m}\n",
        "\\sum_{i=1}^m\n",
        "\\sum_{k=1}^K y_k^{(i)} log(\\hat{p}_k^{(i)})$$\n",
        "    + 두 개의 클래스가 있을 때(K=2) 이 비용 함수는 로지스틱 회귀의 비용 함수와 동일\n",
        "  + 비용 함수의 $\\theta^(k)$에 대한 그레이디언트 벡터\n",
        "  $$ \\nabla_{\\theta^{(k)}}J(\\theta_{big}) = - \\frac{1}{m}\n",
        "\\sum_{i=1}^m \n",
        "(\\hat{p}_k^{(i)} - y_k^{(i)})x^{(i)}$$\n",
        "\n",
        "- 소프트맥스 회귀를 사용해 붓꽃을 세 개의 클래스로 분류\n",
        "  + Logistic Regression의 multi_class 매개변수를 \"multinomial\"로 바꿔 소프트맥스 회귀 사용\n",
        "  + solver 매개변수에 \"lbgfs\"와 같이 소프트맥스 회귀를 지원하는 알고리즘을 지정해야 함\n",
        "  + 기본적으로 $l_2$ 규제 사용"
      ],
      "metadata": {
        "id": "w7TWmtsQbCnP"
      }
    },
    {
      "cell_type": "code",
      "source": [
        "X = iris[\"data\"][:, (2, 3)]  # 꽃잎 길이, 꽃잎 너비\n",
        "y = iris[\"target\"]\n",
        "\n",
        "softmax_reg = LogisticRegression(multi_class=\"multinomial\",solver=\"lbfgs\", C=10, random_state=42)\n",
        "softmax_reg.fit(X, y)"
      ],
      "metadata": {
        "colab": {
          "base_uri": "https://localhost:8080/",
          "height": 75
        },
        "id": "c8YMvKf6dUJL",
        "outputId": "0727c4e5-1a50-49f2-c469-68c7391213fd"
      },
      "execution_count": null,
      "outputs": [
        {
          "output_type": "execute_result",
          "data": {
            "text/plain": [
              "LogisticRegression(C=10, multi_class='multinomial', random_state=42)"
            ],
            "text/html": [
              "<style>#sk-container-id-3 {color: black;background-color: white;}#sk-container-id-3 pre{padding: 0;}#sk-container-id-3 div.sk-toggleable {background-color: white;}#sk-container-id-3 label.sk-toggleable__label {cursor: pointer;display: block;width: 100%;margin-bottom: 0;padding: 0.3em;box-sizing: border-box;text-align: center;}#sk-container-id-3 label.sk-toggleable__label-arrow:before {content: \"▸\";float: left;margin-right: 0.25em;color: #696969;}#sk-container-id-3 label.sk-toggleable__label-arrow:hover:before {color: black;}#sk-container-id-3 div.sk-estimator:hover label.sk-toggleable__label-arrow:before {color: black;}#sk-container-id-3 div.sk-toggleable__content {max-height: 0;max-width: 0;overflow: hidden;text-align: left;background-color: #f0f8ff;}#sk-container-id-3 div.sk-toggleable__content pre {margin: 0.2em;color: black;border-radius: 0.25em;background-color: #f0f8ff;}#sk-container-id-3 input.sk-toggleable__control:checked~div.sk-toggleable__content {max-height: 200px;max-width: 100%;overflow: auto;}#sk-container-id-3 input.sk-toggleable__control:checked~label.sk-toggleable__label-arrow:before {content: \"▾\";}#sk-container-id-3 div.sk-estimator input.sk-toggleable__control:checked~label.sk-toggleable__label {background-color: #d4ebff;}#sk-container-id-3 div.sk-label input.sk-toggleable__control:checked~label.sk-toggleable__label {background-color: #d4ebff;}#sk-container-id-3 input.sk-hidden--visually {border: 0;clip: rect(1px 1px 1px 1px);clip: rect(1px, 1px, 1px, 1px);height: 1px;margin: -1px;overflow: hidden;padding: 0;position: absolute;width: 1px;}#sk-container-id-3 div.sk-estimator {font-family: monospace;background-color: #f0f8ff;border: 1px dotted black;border-radius: 0.25em;box-sizing: border-box;margin-bottom: 0.5em;}#sk-container-id-3 div.sk-estimator:hover {background-color: #d4ebff;}#sk-container-id-3 div.sk-parallel-item::after {content: \"\";width: 100%;border-bottom: 1px solid gray;flex-grow: 1;}#sk-container-id-3 div.sk-label:hover label.sk-toggleable__label {background-color: #d4ebff;}#sk-container-id-3 div.sk-serial::before {content: \"\";position: absolute;border-left: 1px solid gray;box-sizing: border-box;top: 0;bottom: 0;left: 50%;z-index: 0;}#sk-container-id-3 div.sk-serial {display: flex;flex-direction: column;align-items: center;background-color: white;padding-right: 0.2em;padding-left: 0.2em;position: relative;}#sk-container-id-3 div.sk-item {position: relative;z-index: 1;}#sk-container-id-3 div.sk-parallel {display: flex;align-items: stretch;justify-content: center;background-color: white;position: relative;}#sk-container-id-3 div.sk-item::before, #sk-container-id-3 div.sk-parallel-item::before {content: \"\";position: absolute;border-left: 1px solid gray;box-sizing: border-box;top: 0;bottom: 0;left: 50%;z-index: -1;}#sk-container-id-3 div.sk-parallel-item {display: flex;flex-direction: column;z-index: 1;position: relative;background-color: white;}#sk-container-id-3 div.sk-parallel-item:first-child::after {align-self: flex-end;width: 50%;}#sk-container-id-3 div.sk-parallel-item:last-child::after {align-self: flex-start;width: 50%;}#sk-container-id-3 div.sk-parallel-item:only-child::after {width: 0;}#sk-container-id-3 div.sk-dashed-wrapped {border: 1px dashed gray;margin: 0 0.4em 0.5em 0.4em;box-sizing: border-box;padding-bottom: 0.4em;background-color: white;}#sk-container-id-3 div.sk-label label {font-family: monospace;font-weight: bold;display: inline-block;line-height: 1.2em;}#sk-container-id-3 div.sk-label-container {text-align: center;}#sk-container-id-3 div.sk-container {/* jupyter's `normalize.less` sets `[hidden] { display: none; }` but bootstrap.min.css set `[hidden] { display: none !important; }` so we also need the `!important` here to be able to override the default hidden behavior on the sphinx rendered scikit-learn.org. See: https://github.com/scikit-learn/scikit-learn/issues/21755 */display: inline-block !important;position: relative;}#sk-container-id-3 div.sk-text-repr-fallback {display: none;}</style><div id=\"sk-container-id-3\" class=\"sk-top-container\"><div class=\"sk-text-repr-fallback\"><pre>LogisticRegression(C=10, multi_class=&#x27;multinomial&#x27;, random_state=42)</pre><b>In a Jupyter environment, please rerun this cell to show the HTML representation or trust the notebook. <br />On GitHub, the HTML representation is unable to render, please try loading this page with nbviewer.org.</b></div><div class=\"sk-container\" hidden><div class=\"sk-item\"><div class=\"sk-estimator sk-toggleable\"><input class=\"sk-toggleable__control sk-hidden--visually\" id=\"sk-estimator-id-3\" type=\"checkbox\" checked><label for=\"sk-estimator-id-3\" class=\"sk-toggleable__label sk-toggleable__label-arrow\">LogisticRegression</label><div class=\"sk-toggleable__content\"><pre>LogisticRegression(C=10, multi_class=&#x27;multinomial&#x27;, random_state=42)</pre></div></div></div></div></div>"
            ]
          },
          "metadata": {},
          "execution_count": 45
        }
      ]
    },
    {
      "cell_type": "code",
      "source": [
        "softmax_reg.predict([[5,2]])"
      ],
      "metadata": {
        "colab": {
          "base_uri": "https://localhost:8080/"
        },
        "id": "ele47cUBdWCe",
        "outputId": "4fc2f7a0-8ee6-48d0-d6c8-70eb8c3b6f7c"
      },
      "execution_count": null,
      "outputs": [
        {
          "output_type": "execute_result",
          "data": {
            "text/plain": [
              "array([2])"
            ]
          },
          "metadata": {},
          "execution_count": 46
        }
      ]
    },
    {
      "cell_type": "code",
      "source": [
        "softmax_reg.predict_proba([[5,2]])"
      ],
      "metadata": {
        "colab": {
          "base_uri": "https://localhost:8080/"
        },
        "id": "VjMlKyvCdXJs",
        "outputId": "af0d59f9-4666-4f79-b5f8-447f51c14f8d"
      },
      "execution_count": null,
      "outputs": [
        {
          "output_type": "execute_result",
          "data": {
            "text/plain": [
              "array([[6.38014896e-07, 5.74929995e-02, 9.42506362e-01]])"
            ]
          },
          "metadata": {},
          "execution_count": 47
        }
      ]
    },
    {
      "cell_type": "markdown",
      "source": [
        "> - 클래스 사이의 결정 경계는 모두 선형\n",
        "    + 모든 결정 경계가 만나는 지점에서는 모든 클래스가 동일하게 33%의 추정 확률을 가짐 "
      ],
      "metadata": {
        "id": "Vo47oyKwdfBm"
      }
    }
  ]
}